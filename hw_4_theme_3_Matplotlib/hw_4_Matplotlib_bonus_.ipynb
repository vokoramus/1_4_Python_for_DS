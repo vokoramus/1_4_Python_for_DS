{
  "nbformat": 4,
  "nbformat_minor": 0,
  "metadata": {
    "colab": {
      "name": "hw_4_bonus.ipynb",
      "provenance": [],
      "collapsed_sections": []
    },
    "kernelspec": {
      "name": "python3",
      "display_name": "Python 3"
    },
    "language_info": {
      "name": "python"
    }
  },
  "cells": [
    {
      "cell_type": "code",
      "metadata": {
        "id": "hRBcE_uPLM8K"
      },
      "source": [
        "import numpy as np"
      ],
      "execution_count": 2,
      "outputs": []
    },
    {
      "cell_type": "code",
      "metadata": {
        "id": "pzo41xnhKyNQ"
      },
      "source": [
        "# Создать одномерный массив Numpy под названием a из 12 последовательных целых чисел чисел от 12 до 24 невключительно\n",
        "\n",
        "a = np.arange(12, 24)"
      ],
      "execution_count": 4,
      "outputs": []
    },
    {
      "cell_type": "code",
      "metadata": {
        "colab": {
          "base_uri": "https://localhost:8080/"
        },
        "id": "RFjq5-gJLVaR",
        "outputId": "b0b2aabf-6c51-48e5-b636-7559ed5aca69"
      },
      "source": [
        "print(a)\n"
      ],
      "execution_count": null,
      "outputs": [
        {
          "output_type": "stream",
          "name": "stdout",
          "text": [
            "[12 13 14 15 16 17 18 19 20 21 22 23]\n"
          ]
        }
      ]
    },
    {
      "cell_type": "code",
      "metadata": {
        "id": "41hKkgNaMJCf"
      },
      "source": [
        "# Создать 5 двумерных массивов разной формы из массива a. Не использовать в аргументах метода reshape число -1"
      ],
      "execution_count": null,
      "outputs": []
    },
    {
      "cell_type": "code",
      "metadata": {
        "colab": {
          "base_uri": "https://localhost:8080/"
        },
        "id": "9tM9xrN5MTgs",
        "outputId": "a4c26978-7c74-4f5e-b97d-6a932412635f"
      },
      "source": [
        "a.shape, a.ndim, a.size"
      ],
      "execution_count": null,
      "outputs": [
        {
          "output_type": "execute_result",
          "data": {
            "text/plain": [
              "((12,), 1, 12)"
            ]
          },
          "metadata": {},
          "execution_count": 12
        }
      ]
    },
    {
      "cell_type": "code",
      "metadata": {
        "colab": {
          "base_uri": "https://localhost:8080/"
        },
        "id": "3bliCuEMMNOc",
        "outputId": "aba64dc5-8515-41c0-d360-21e3ae530bab"
      },
      "source": [
        "print(np.reshape(a, (2, 6)))\n",
        "print(np.reshape(a, (3, 4)))\n",
        "print(np.reshape(a, (4, 3)))\n",
        "print(np.reshape(a, (6, 2)))\n",
        "print(np.reshape(a, (12, 1)))\n",
        "#a"
      ],
      "execution_count": null,
      "outputs": [
        {
          "output_type": "stream",
          "name": "stdout",
          "text": [
            "[[12 13 14 15 16 17]\n",
            " [18 19 20 21 22 23]]\n",
            "[[12 13 14 15]\n",
            " [16 17 18 19]\n",
            " [20 21 22 23]]\n",
            "[[12 13 14]\n",
            " [15 16 17]\n",
            " [18 19 20]\n",
            " [21 22 23]]\n",
            "[[12 13]\n",
            " [14 15]\n",
            " [16 17]\n",
            " [18 19]\n",
            " [20 21]\n",
            " [22 23]]\n",
            "[[12]\n",
            " [13]\n",
            " [14]\n",
            " [15]\n",
            " [16]\n",
            " [17]\n",
            " [18]\n",
            " [19]\n",
            " [20]\n",
            " [21]\n",
            " [22]\n",
            " [23]]\n"
          ]
        }
      ]
    },
    {
      "cell_type": "code",
      "metadata": {
        "colab": {
          "base_uri": "https://localhost:8080/"
        },
        "id": "-5ZtUxeugipC",
        "outputId": "a586ffc3-a74b-4bae-e065-90e2eb8bd6ea"
      },
      "source": [
        "# Создать 5 двумерных массивов разной формы из массива a. \n",
        "# Использовать в аргументах метода reshape число -1 (в трех примерах - для обозначения числа столбцов, в двух - для строк).\n",
        "\n",
        "print(np.reshape(a, (2, -1)))\n",
        "print(np.reshape(a, (3, -1)))\n",
        "print(np.reshape(a, (4, -1)))\n",
        "print(np.reshape(a, (-1, 2)))\n",
        "print(np.reshape(a, (-1, 1)))"
      ],
      "execution_count": 5,
      "outputs": [
        {
          "output_type": "stream",
          "name": "stdout",
          "text": [
            "[[12 13 14 15 16 17]\n",
            " [18 19 20 21 22 23]]\n",
            "[[12 13 14 15]\n",
            " [16 17 18 19]\n",
            " [20 21 22 23]]\n",
            "[[12 13 14]\n",
            " [15 16 17]\n",
            " [18 19 20]\n",
            " [21 22 23]]\n",
            "[[12 13]\n",
            " [14 15]\n",
            " [16 17]\n",
            " [18 19]\n",
            " [20 21]\n",
            " [22 23]]\n",
            "[[12]\n",
            " [13]\n",
            " [14]\n",
            " [15]\n",
            " [16]\n",
            " [17]\n",
            " [18]\n",
            " [19]\n",
            " [20]\n",
            " [21]\n",
            " [22]\n",
            " [23]]\n"
          ]
        }
      ]
    },
    {
      "cell_type": "code",
      "metadata": {
        "colab": {
          "base_uri": "https://localhost:8080/"
        },
        "id": "m4Es9iCbhi90",
        "outputId": "fde94b99-5a8d-40bd-bb7d-35fee79946c5"
      },
      "source": [
        "# Можно ли массив Numpy, состоящий из одного столбца и 12 строк, назвать одномерным?\n",
        "a0 = np.ones((12))\n",
        "a1 = np.ones((12, 1))\n",
        "a2 = np.ones((1, 12))\n",
        "print (a0, a1, a2, sep='\\n'*2)\n",
        "print (a0.ndim, a1.ndim, a2.ndim)\n",
        "# Ответ: Нет, массив, состоящий из одного столбца и 12 строк (a1) является двумерным. Более того, массив из 1 строки и 12 столбцов (a2) также является двумерным. \n",
        "# Одномерным является массив (a0) с 12 элементами, но у одномерного массива отсутствуют понятия строки и столбцы (это уже 2 измерения), \n",
        "# но присутствуют только элементы, обладающие порядковым номером (1 измерение)."
      ],
      "execution_count": 17,
      "outputs": [
        {
          "output_type": "stream",
          "name": "stdout",
          "text": [
            "[1. 1. 1. 1. 1. 1. 1. 1. 1. 1. 1. 1.]\n",
            "\n",
            "[[1.]\n",
            " [1.]\n",
            " [1.]\n",
            " [1.]\n",
            " [1.]\n",
            " [1.]\n",
            " [1.]\n",
            " [1.]\n",
            " [1.]\n",
            " [1.]\n",
            " [1.]\n",
            " [1.]]\n",
            "\n",
            "[[1. 1. 1. 1. 1. 1. 1. 1. 1. 1. 1. 1.]]\n",
            "1 2 2\n"
          ]
        }
      ]
    },
    {
      "cell_type": "code",
      "metadata": {
        "colab": {
          "base_uri": "https://localhost:8080/"
        },
        "id": "sxCd_TSRk_NG",
        "outputId": "8a5e6501-b70b-444f-bcea-b2f6e01d3786"
      },
      "source": [
        "# Создать массив из 3 строк и 4 столбцов, состоящий из случайных чисел с плавающей запятой из нормального распределения \n",
        "# со средним, равным 0 и среднеквадратичным отклонением, равным 1.0. \n",
        "# Получить из этого массива одномерный массив с таким же атрибутом size, как и исходный массив.\n",
        "\n",
        "rnd = np.random.randn(3, 4)\n",
        "# rnd\n",
        "rnd.flatten()"
      ],
      "execution_count": 24,
      "outputs": [
        {
          "output_type": "execute_result",
          "data": {
            "text/plain": [
              "array([ 0.0918485 , -0.34396677, -0.30268004, -2.11219877,  0.85459312,\n",
              "        0.11515289,  2.30733828, -0.50975517, -1.03290916, -0.03793719,\n",
              "       -1.12488352, -0.17549727])"
            ]
          },
          "metadata": {},
          "execution_count": 24
        }
      ]
    },
    {
      "cell_type": "code",
      "metadata": {
        "colab": {
          "base_uri": "https://localhost:8080/"
        },
        "id": "y9DYHve9mPfx",
        "outputId": "114bc345-6e66-4453-a356-60b2c6dd6dbf"
      },
      "source": [
        "# Создать массив a, состоящий из целых чисел, убывающих от 20 до 0 невключительно с интервалом 2\n",
        "a = np.arange(20, 0, -2)\n",
        "print(a)"
      ],
      "execution_count": 28,
      "outputs": [
        {
          "output_type": "stream",
          "name": "stdout",
          "text": [
            "[20 18 16 14 12 10  8  6  4  2]\n"
          ]
        }
      ]
    },
    {
      "cell_type": "code",
      "metadata": {
        "colab": {
          "base_uri": "https://localhost:8080/"
        },
        "id": "vs9wyIUYmrMD",
        "outputId": "f57576e3-e7fc-4576-e3d1-915fa7acb616"
      },
      "source": [
        "# Создать массив b, состоящий из 1 строки и 10 столбцов: целых чисел, убывающих от 20 до 1 невключительно с интервалом 2. \n",
        "# В чем разница между массивами a и b?\n",
        "b = np.reshape(a, (1, -1))\n",
        "b"
      ],
      "execution_count": 30,
      "outputs": [
        {
          "output_type": "execute_result",
          "data": {
            "text/plain": [
              "array([[20, 18, 16, 14, 12, 10,  8,  6,  4,  2]])"
            ]
          },
          "metadata": {},
          "execution_count": 30
        }
      ]
    },
    {
      "cell_type": "code",
      "metadata": {
        "colab": {
          "base_uri": "https://localhost:8080/"
        },
        "id": "zCeEPPH5msCe",
        "outputId": "c0af165b-16f2-4b63-a62a-2694a2ef8448"
      },
      "source": [
        "print(a.ndim, b.ndim)\n",
        "# массив а - одномерный, массив b - двумерный"
      ],
      "execution_count": 32,
      "outputs": [
        {
          "output_type": "stream",
          "name": "stdout",
          "text": [
            "1 2\n"
          ]
        }
      ]
    },
    {
      "cell_type": "code",
      "metadata": {
        "colab": {
          "base_uri": "https://localhost:8080/"
        },
        "id": "iKsvyowUmsPm",
        "outputId": "4bfbc805-4850-4588-a305-c00aea86d4f7"
      },
      "source": [
        "# Вертикально соединить массивы a и b. a - двумерный массив из нулей, число строк которого больше 1 и на 1 меньше, \n",
        "# чем число строк двумерного массива b, состоящего из единиц. Итоговый массив v должен иметь атрибут size, равный 10.\n",
        "a = np.zeros((2,2))\n",
        "b = np.ones((3,2))\n",
        "ab = np.vstack((a, b))\n",
        "print(ab)\n",
        "print(ab.size)"
      ],
      "execution_count": 42,
      "outputs": [
        {
          "output_type": "stream",
          "name": "stdout",
          "text": [
            "[[0. 0.]\n",
            " [0. 0.]\n",
            " [1. 1.]\n",
            " [1. 1.]\n",
            " [1. 1.]]\n",
            "10\n"
          ]
        }
      ]
    },
    {
      "cell_type": "code",
      "metadata": {
        "colab": {
          "base_uri": "https://localhost:8080/"
        },
        "id": "4ONMIPsnpEqn",
        "outputId": "ff3a68f4-2fd4-4392-ae15-c2919795338f"
      },
      "source": [
        "# Создать одномерный массив а, состоящий из последовательности целых чисел от 0 до 12. \n",
        "# Поменять форму этого массива, чтобы получилась матрица A (двумерный массив Numpy), состоящая из 4 строк и 3 столбцов. \n",
        "# Получить матрицу At путем транспонирования матрицы A. \n",
        "# Получить матрицу B, умножив матрицу A на матрицу At с помощью матричного умножения. \n",
        "# Какой размер имеет матрица B? \n",
        "# Получится ли вычислить обратную матрицу для матрицы B и почему?\n",
        "\n",
        "a = np.arange(12)\n",
        "A = a.reshape((4, 3))\n",
        "At = A.T\n",
        "B = np.dot(A, At)\n",
        "print(B)\n",
        "print('shape(B) = ', B.shape)\n",
        "# print(np.linalg.inv(B))  # LinAlgError: Singular matrix\n",
        "print('det(B) = ', np.linalg.det(B))  # т.к. определитель равен 0"
      ],
      "execution_count": 61,
      "outputs": [
        {
          "output_type": "stream",
          "name": "stdout",
          "text": [
            "[[  5  14  23  32]\n",
            " [ 14  50  86 122]\n",
            " [ 23  86 149 212]\n",
            " [ 32 122 212 302]]\n",
            "shape(B) =  (4, 4)\n",
            "det(B) =  0.0\n"
          ]
        }
      ]
    },
    {
      "cell_type": "code",
      "metadata": {
        "colab": {
          "base_uri": "https://localhost:8080/"
        },
        "id": "c5IaF1NRr2qQ",
        "outputId": "99f47208-99a3-4601-ed26-20650c027e9b"
      },
      "source": [
        "# Инициализируйте генератор случайных числе с помощью объекта seed, равного 42.\n",
        "np.random.seed(42)\n",
        "# далее - проверка:\n",
        "rnd1 = np.random.randint(0, 10**6, 5)\n",
        "np.random.seed(42)\n",
        "rnd2 = np.random.randint(0, 10**6, 5)\n",
        "print(rnd1, rnd2, sep='\\n')"
      ],
      "execution_count": 63,
      "outputs": [
        {
          "output_type": "stream",
          "name": "stdout",
          "text": [
            "[121958 671155 131932 365838 259178]\n",
            "[121958 671155 131932 365838 259178]\n"
          ]
        }
      ]
    },
    {
      "cell_type": "code",
      "metadata": {
        "colab": {
          "base_uri": "https://localhost:8080/"
        },
        "id": "xXc3eMdhs12y",
        "outputId": "5c4b1777-9d66-4b7d-eb94-6a8196ab371f"
      },
      "source": [
        "# Создайте одномерный массив c, составленный из последовательности 16-ти случайных равномерно распределенных целых чисел от 0 до 16 невключительно. \n",
        "c = np.random.randint(0, 16, 16)\n",
        "c"
      ],
      "execution_count": 66,
      "outputs": [
        {
          "output_type": "execute_result",
          "data": {
            "text/plain": [
              "array([ 8,  0, 10, 10, 14,  9, 15, 11, 11, 15, 14, 13, 13, 14, 13,  2])"
            ]
          },
          "metadata": {},
          "execution_count": 66
        }
      ]
    },
    {
      "cell_type": "code",
      "metadata": {
        "colab": {
          "base_uri": "https://localhost:8080/"
        },
        "id": "Kodt8gKds2iz",
        "outputId": "ac3dda56-1de6-48c5-82ea-fdf4c333f72f"
      },
      "source": [
        "# Поменяйте его форму так, чтобы получилась квадратная матрица C. \n",
        "# Получите матрицу D, поэлементно прибавив матрицу B из предыдущего вопроса к матрице C, умноженной на 10. \n",
        "# Вычислите определитель, ранг и обратную матрицу D_inv для D.\n",
        "C = c.reshape((4,4))\n",
        "print(C)\n",
        "D = B + C * 10\n",
        "print(D)"
      ],
      "execution_count": 72,
      "outputs": [
        {
          "output_type": "stream",
          "name": "stdout",
          "text": [
            "[[ 8  0 10 10]\n",
            " [14  9 15 11]\n",
            " [11 15 14 13]\n",
            " [13 14 13  2]]\n",
            "[[ 85  14 123 132]\n",
            " [154 140 236 232]\n",
            " [133 236 289 342]\n",
            " [162 262 342 322]]\n"
          ]
        }
      ]
    },
    {
      "cell_type": "code",
      "metadata": {
        "colab": {
          "base_uri": "https://localhost:8080/"
        },
        "id": "gUOl0xfds2sT",
        "outputId": "d7f7e747-4857-4533-c4e5-4503bad62f30"
      },
      "source": [
        "np.linalg.det(D)"
      ],
      "execution_count": 73,
      "outputs": [
        {
          "output_type": "execute_result",
          "data": {
            "text/plain": [
              "-57153999.99999996"
            ]
          },
          "metadata": {},
          "execution_count": 73
        }
      ]
    },
    {
      "cell_type": "code",
      "metadata": {
        "colab": {
          "base_uri": "https://localhost:8080/"
        },
        "id": "kjm305zCuD9O",
        "outputId": "d4fbeead-1003-40e8-9f12-2bc45cc5efc9"
      },
      "source": [
        "np.linalg.matrix_rank(D)"
      ],
      "execution_count": 75,
      "outputs": [
        {
          "output_type": "execute_result",
          "data": {
            "text/plain": [
              "4"
            ]
          },
          "metadata": {},
          "execution_count": 75
        }
      ]
    },
    {
      "cell_type": "code",
      "metadata": {
        "colab": {
          "base_uri": "https://localhost:8080/"
        },
        "id": "KLenl498vygH",
        "outputId": "f9ad4f5b-0ef0-43d2-dc9e-98eae0bc710c"
      },
      "source": [
        "D_inv = np.linalg.inv(D)\n",
        "D_inv"
      ],
      "execution_count": 76,
      "outputs": [
        {
          "output_type": "execute_result",
          "data": {
            "text/plain": [
              "array([[-0.01792001,  0.03497218, -0.00075235, -0.01705217],\n",
              "       [-0.01788396,  0.0115607 ,  0.00252196, -0.00367673],\n",
              "       [ 0.01961158, -0.02498303, -0.01450957,  0.02537145],\n",
              "       [ 0.00273752, -0.00046646,  0.01373727, -0.01227106]])"
            ]
          },
          "metadata": {},
          "execution_count": 76
        }
      ]
    },
    {
      "cell_type": "code",
      "metadata": {
        "colab": {
          "base_uri": "https://localhost:8080/"
        },
        "id": "iFoDoy0Wv8l5",
        "outputId": "7b0a3283-4c80-4d56-85da-97b0ebc8521b"
      },
      "source": [
        "test = np.dot(D,D_inv)\n",
        "np.around(test, 3)"
      ],
      "execution_count": 79,
      "outputs": [
        {
          "output_type": "execute_result",
          "data": {
            "text/plain": [
              "array([[ 1., -0., -0.,  0.],\n",
              "       [ 0.,  1.,  0., -0.],\n",
              "       [ 0.,  0.,  1., -0.],\n",
              "       [ 0., -0., -0.,  1.]])"
            ]
          },
          "metadata": {},
          "execution_count": 79
        }
      ]
    },
    {
      "cell_type": "code",
      "metadata": {
        "colab": {
          "base_uri": "https://localhost:8080/"
        },
        "id": "XFbEIRNWwuXT",
        "outputId": "b701f40a-0189-49ac-d72f-6ffb6ebff0a8"
      },
      "source": [
        "# Приравняйте к нулю отрицательные числа в матрице D_inv, а положительные - к единице. \n",
        "# Убедитесь, что в матрице D_inv остались только нули и единицы. \n",
        "# С помощью функции numpy.where, используя матрицу D_inv в качестве маски, \n",
        "# а матрицы B и C - в качестве источников данных, получите матрицу E размером 4x4.  \n",
        "# Элементы матрицы E, для которых соответствующий элемент матрицы D_inv равен 1, \n",
        "# должны быть равны соответствующему элементу матрицы B, \n",
        "# а элементы матрицы E, для которых соответствующий элемент матрицы D_inv равен 0, \n",
        "# должны быть равны соответствующему элементу матрицы C.\n",
        "\n",
        "D_inv"
      ],
      "execution_count": 83,
      "outputs": [
        {
          "output_type": "execute_result",
          "data": {
            "text/plain": [
              "array([[-0.01792001,  0.03497218, -0.00075235, -0.01705217],\n",
              "       [-0.01788396,  0.0115607 ,  0.00252196, -0.00367673],\n",
              "       [ 0.01961158, -0.02498303, -0.01450957,  0.02537145],\n",
              "       [ 0.00273752, -0.00046646,  0.01373727, -0.01227106]])"
            ]
          },
          "metadata": {},
          "execution_count": 83
        }
      ]
    },
    {
      "cell_type": "code",
      "metadata": {
        "colab": {
          "base_uri": "https://localhost:8080/"
        },
        "id": "VnrLMwEJxWyD",
        "outputId": "c646512b-13ea-4e74-b2a7-be844aa0d385"
      },
      "source": [
        "D_inv[D_inv < 0] = 0\n",
        "D_inv"
      ],
      "execution_count": 85,
      "outputs": [
        {
          "output_type": "execute_result",
          "data": {
            "text/plain": [
              "array([[0.        , 0.03497218, 0.        , 0.        ],\n",
              "       [0.        , 0.0115607 , 0.00252196, 0.        ],\n",
              "       [0.01961158, 0.        , 0.        , 0.02537145],\n",
              "       [0.00273752, 0.        , 0.01373727, 0.        ]])"
            ]
          },
          "metadata": {},
          "execution_count": 85
        }
      ]
    },
    {
      "cell_type": "code",
      "metadata": {
        "colab": {
          "base_uri": "https://localhost:8080/"
        },
        "id": "vfq7-aqcxXP3",
        "outputId": "a8e9fbf0-7cb2-4b78-e8ea-acd189f4fbdc"
      },
      "source": [
        "D_inv[D_inv > 0] = 1\n",
        "D_inv"
      ],
      "execution_count": 86,
      "outputs": [
        {
          "output_type": "execute_result",
          "data": {
            "text/plain": [
              "array([[0., 1., 0., 0.],\n",
              "       [0., 1., 1., 0.],\n",
              "       [1., 0., 0., 1.],\n",
              "       [1., 0., 1., 0.]])"
            ]
          },
          "metadata": {},
          "execution_count": 86
        }
      ]
    },
    {
      "cell_type": "code",
      "metadata": {
        "colab": {
          "base_uri": "https://localhost:8080/"
        },
        "id": "Mcub01s6xXTw",
        "outputId": "22a5fe1c-3e1a-499c-d733-6e39915ef911"
      },
      "source": [
        "print(B, C, sep='\\n')\n",
        "E = np.where(D_inv, B, C)\n",
        "print(E)\n",
        "# Проверка:\n",
        "# print(E - B)\n",
        "# print(E - C)"
      ],
      "execution_count": 90,
      "outputs": [
        {
          "output_type": "stream",
          "name": "stdout",
          "text": [
            "[[  5  14  23  32]\n",
            " [ 14  50  86 122]\n",
            " [ 23  86 149 212]\n",
            " [ 32 122 212 302]]\n",
            "[[ 8  0 10 10]\n",
            " [14  9 15 11]\n",
            " [11 15 14 13]\n",
            " [13 14 13  2]]\n",
            "[[  8  14  10  10]\n",
            " [ 14  50  86  11]\n",
            " [ 23  15  14 212]\n",
            " [ 32  14 212   2]]\n",
            "[[   3    0  -13  -22]\n",
            " [   0    0    0 -111]\n",
            " [   0  -71 -135    0]\n",
            " [   0 -108    0 -300]]\n",
            "[[  0  14   0   0]\n",
            " [  0  41  71   0]\n",
            " [ 12   0   0 199]\n",
            " [ 19   0 199   0]]\n"
          ]
        }
      ]
    },
    {
      "cell_type": "code",
      "metadata": {
        "id": "slRJdC7mxXXn"
      },
      "source": [
        ""
      ],
      "execution_count": null,
      "outputs": []
    },
    {
      "cell_type": "code",
      "metadata": {
        "id": "B8GaT3ThxXa0"
      },
      "source": [
        ""
      ],
      "execution_count": null,
      "outputs": []
    }
  ]
}