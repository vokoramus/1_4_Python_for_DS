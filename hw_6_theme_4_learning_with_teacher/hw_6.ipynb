{
 "cells": [
  {
   "cell_type": "markdown",
   "metadata": {
    "id": "pVRhNhJHPO9A"
   },
   "source": [
    "# Тема “Обучение с учителем”"
   ]
  },
  {
   "cell_type": "markdown",
   "metadata": {
    "id": "FGnjvQBJPd34"
   },
   "source": [
    "Задание 1\n",
    "Импортируйте библиотеки pandas и numpy.\n",
    "\n",
    "Загрузите \"Boston House Prices dataset\" из встроенных наборов данных библиотеки sklearn. \n",
    "\n",
    "Создайте датафреймы X и y из этих данных.\n",
    "\n",
    "Разбейте эти датафреймы на тренировочные (X_train, y_train) и тестовые (X_test, y_test) с помощью функции train_test_split так, чтобы размер тестовой выборки\n",
    "составлял 30% от всех данных, при этом аргумент random_state должен быть равен 42.\n",
    "\n",
    "Создайте модель линейной регрессии под названием lr с помощью класса LinearRegression из модуля sklearn.linear_model.\n",
    "\n",
    "Обучите модель на тренировочных данных (используйте все признаки) и сделайте предсказание на тестовых.\n",
    "\n",
    "Вычислите R2 полученных предказаний с помощью r2_score из модуля sklearn.metrics.\n"
   ]
  },
  {
   "cell_type": "code",
   "execution_count": 1,
   "metadata": {
    "executionInfo": {
     "elapsed": 479,
     "status": "ok",
     "timestamp": 1635092218534,
     "user": {
      "displayName": "Vokoramus Yuriy",
      "photoUrl": "https://lh3.googleusercontent.com/a/default-user=s64",
      "userId": "11194351396661567910"
     },
     "user_tz": -180
    },
    "id": "HhZDfSRqP1fC"
   },
   "outputs": [],
   "source": [
    "import numpy as np\n",
    "import pandas as pd\n",
    "from sklearn.datasets import load_boston"
   ]
  },
  {
   "cell_type": "code",
   "execution_count": 2,
   "metadata": {
    "executionInfo": {
     "elapsed": 61,
     "status": "ok",
     "timestamp": 1635092218895,
     "user": {
      "displayName": "Vokoramus Yuriy",
      "photoUrl": "https://lh3.googleusercontent.com/a/default-user=s64",
      "userId": "11194351396661567910"
     },
     "user_tz": -180
    },
    "id": "ny2qbmHxykyc"
   },
   "outputs": [],
   "source": [
    "ds = load_boston()"
   ]
  },
  {
   "cell_type": "code",
   "execution_count": 3,
   "metadata": {
    "colab": {
     "base_uri": "https://localhost:8080/"
    },
    "executionInfo": {
     "elapsed": 62,
     "status": "ok",
     "timestamp": 1635092218897,
     "user": {
      "displayName": "Vokoramus Yuriy",
      "photoUrl": "https://lh3.googleusercontent.com/a/default-user=s64",
      "userId": "11194351396661567910"
     },
     "user_tz": -180
    },
    "id": "LvWpoRA-ylkh",
    "outputId": "28da0607-6eb8-4810-a63a-9306829dc640"
   },
   "outputs": [
    {
     "data": {
      "text/plain": [
       "dict_keys(['data', 'target', 'feature_names', 'DESCR', 'filename'])"
      ]
     },
     "execution_count": 3,
     "metadata": {},
     "output_type": "execute_result"
    }
   ],
   "source": [
    "ds.keys()"
   ]
  },
  {
   "cell_type": "code",
   "execution_count": 4,
   "metadata": {
    "executionInfo": {
     "elapsed": 57,
     "status": "ok",
     "timestamp": 1635092218898,
     "user": {
      "displayName": "Vokoramus Yuriy",
      "photoUrl": "https://lh3.googleusercontent.com/a/default-user=s64",
      "userId": "11194351396661567910"
     },
     "user_tz": -180
    },
    "id": "eebr_VfOzE9k"
   },
   "outputs": [],
   "source": [
    "# ds['feature_names']"
   ]
  },
  {
   "cell_type": "code",
   "execution_count": 5,
   "metadata": {
    "executionInfo": {
     "elapsed": 58,
     "status": "ok",
     "timestamp": 1635092218900,
     "user": {
      "displayName": "Vokoramus Yuriy",
      "photoUrl": "https://lh3.googleusercontent.com/a/default-user=s64",
      "userId": "11194351396661567910"
     },
     "user_tz": -180
    },
    "id": "rxo-AZkF0OoX"
   },
   "outputs": [],
   "source": [
    "data = ds['data']\n",
    "feature_names = ds[\"feature_names\"]\n",
    "target = ds['target']"
   ]
  },
  {
   "cell_type": "code",
   "execution_count": 6,
   "metadata": {
    "executionInfo": {
     "elapsed": 59,
     "status": "ok",
     "timestamp": 1635092218901,
     "user": {
      "displayName": "Vokoramus Yuriy",
      "photoUrl": "https://lh3.googleusercontent.com/a/default-user=s64",
      "userId": "11194351396661567910"
     },
     "user_tz": -180
    },
    "id": "fdE2jTOQylsL"
   },
   "outputs": [],
   "source": [
    "X = pd.DataFrame(data, columns=feature_names)"
   ]
  },
  {
   "cell_type": "code",
   "execution_count": 7,
   "metadata": {
    "executionInfo": {
     "elapsed": 58,
     "status": "ok",
     "timestamp": 1635092218903,
     "user": {
      "displayName": "Vokoramus Yuriy",
      "photoUrl": "https://lh3.googleusercontent.com/a/default-user=s64",
      "userId": "11194351396661567910"
     },
     "user_tz": -180
    },
    "id": "iNTN8iiVyl0n"
   },
   "outputs": [],
   "source": [
    "y = pd.DataFrame(target, columns=[\"price\"])"
   ]
  },
  {
   "cell_type": "code",
   "execution_count": 8,
   "metadata": {
    "executionInfo": {
     "elapsed": 58,
     "status": "ok",
     "timestamp": 1635092218904,
     "user": {
      "displayName": "Vokoramus Yuriy",
      "photoUrl": "https://lh3.googleusercontent.com/a/default-user=s64",
      "userId": "11194351396661567910"
     },
     "user_tz": -180
    },
    "id": "1cLS7L210nJx"
   },
   "outputs": [],
   "source": [
    "from sklearn.model_selection import train_test_split"
   ]
  },
  {
   "cell_type": "code",
   "execution_count": 9,
   "metadata": {
    "executionInfo": {
     "elapsed": 59,
     "status": "ok",
     "timestamp": 1635092218906,
     "user": {
      "displayName": "Vokoramus Yuriy",
      "photoUrl": "https://lh3.googleusercontent.com/a/default-user=s64",
      "userId": "11194351396661567910"
     },
     "user_tz": -180
    },
    "id": "Pk5LZ83e3ybQ"
   },
   "outputs": [],
   "source": [
    "X_train, X_test, y_train, y_test = train_test_split(X, y, test_size=0.3, random_state=42)"
   ]
  },
  {
   "cell_type": "code",
   "execution_count": 10,
   "metadata": {
    "executionInfo": {
     "elapsed": 58,
     "status": "ok",
     "timestamp": 1635092218907,
     "user": {
      "displayName": "Vokoramus Yuriy",
      "photoUrl": "https://lh3.googleusercontent.com/a/default-user=s64",
      "userId": "11194351396661567910"
     },
     "user_tz": -180
    },
    "id": "wQUAAoSN4IGe"
   },
   "outputs": [],
   "source": [
    "from sklearn.linear_model import LinearRegression"
   ]
  },
  {
   "cell_type": "code",
   "execution_count": 11,
   "metadata": {
    "executionInfo": {
     "elapsed": 58,
     "status": "ok",
     "timestamp": 1635092218908,
     "user": {
      "displayName": "Vokoramus Yuriy",
      "photoUrl": "https://lh3.googleusercontent.com/a/default-user=s64",
      "userId": "11194351396661567910"
     },
     "user_tz": -180
    },
    "id": "0lIOFiTs4UQF"
   },
   "outputs": [],
   "source": [
    "lr = LinearRegression()"
   ]
  },
  {
   "cell_type": "code",
   "execution_count": 12,
   "metadata": {
    "colab": {
     "base_uri": "https://localhost:8080/"
    },
    "executionInfo": {
     "elapsed": 58,
     "status": "ok",
     "timestamp": 1635092218910,
     "user": {
      "displayName": "Vokoramus Yuriy",
      "photoUrl": "https://lh3.googleusercontent.com/a/default-user=s64",
      "userId": "11194351396661567910"
     },
     "user_tz": -180
    },
    "id": "t-W_uHFU4YcS",
    "outputId": "306ac471-c522-46a1-bac3-19e797580921"
   },
   "outputs": [
    {
     "data": {
      "text/plain": [
       "LinearRegression()"
      ]
     },
     "execution_count": 12,
     "metadata": {},
     "output_type": "execute_result"
    }
   ],
   "source": [
    "lr.fit(X_train, y_train)"
   ]
  },
  {
   "cell_type": "code",
   "execution_count": 13,
   "metadata": {
    "executionInfo": {
     "elapsed": 54,
     "status": "ok",
     "timestamp": 1635092218912,
     "user": {
      "displayName": "Vokoramus Yuriy",
      "photoUrl": "https://lh3.googleusercontent.com/a/default-user=s64",
      "userId": "11194351396661567910"
     },
     "user_tz": -180
    },
    "id": "UbT19fSU4k6t"
   },
   "outputs": [],
   "source": [
    "y_predict = lr.predict(X_test)"
   ]
  },
  {
   "cell_type": "code",
   "execution_count": 14,
   "metadata": {
    "executionInfo": {
     "elapsed": 54,
     "status": "ok",
     "timestamp": 1635092218913,
     "user": {
      "displayName": "Vokoramus Yuriy",
      "photoUrl": "https://lh3.googleusercontent.com/a/default-user=s64",
      "userId": "11194351396661567910"
     },
     "user_tz": -180
    },
    "id": "lb2ipWKk47XH"
   },
   "outputs": [],
   "source": [
    "from sklearn.metrics import r2_score"
   ]
  },
  {
   "cell_type": "code",
   "execution_count": 15,
   "metadata": {
    "colab": {
     "base_uri": "https://localhost:8080/"
    },
    "executionInfo": {
     "elapsed": 53,
     "status": "ok",
     "timestamp": 1635092218914,
     "user": {
      "displayName": "Vokoramus Yuriy",
      "photoUrl": "https://lh3.googleusercontent.com/a/default-user=s64",
      "userId": "11194351396661567910"
     },
     "user_tz": -180
    },
    "id": "x9KKDBb65IvC",
    "outputId": "c70ce993-e00c-420a-f698-c8a38b435a7d"
   },
   "outputs": [
    {
     "data": {
      "text/plain": [
       "0.7112260057484945"
      ]
     },
     "execution_count": 15,
     "metadata": {},
     "output_type": "execute_result"
    }
   ],
   "source": [
    "r2 = r2_score(y_test, y_predict)\n",
    "r2"
   ]
  },
  {
   "cell_type": "markdown",
   "metadata": {
    "id": "Z30Jhg3oPiUo"
   },
   "source": [
    "Задание 2\n",
    "Создайте модель под названием model с помощью RandomForestRegressor из модуля sklearn.ensemble.\n",
    "\n",
    "Сделайте агрумент n_estimators равным 1000, max_depth должен быть равен 12 и random_state сделайте равным 42.\n",
    "\n",
    "Обучите модель на тренировочных данных аналогично тому, как вы обучали модель LinearRegression, но при этом в метод fit вместо датафрейма y_train поставьте y_train.values[:, 0], чтобы получить из датафрейма одномерный массив Numpy,\n",
    "так как для класса RandomForestRegressor в данном методе для аргумента y предпочтительно применение массивов вместо датафрейма.\n",
    "\n",
    "Сделайте предсказание на тестовых данных и посчитайте R2. Сравните с результатом из предыдущего задания.\n",
    "\n",
    "Напишите в комментариях к коду, какая модель в данном случае работает лучше."
   ]
  },
  {
   "cell_type": "code",
   "execution_count": 16,
   "metadata": {
    "executionInfo": {
     "elapsed": 49,
     "status": "ok",
     "timestamp": 1635092218916,
     "user": {
      "displayName": "Vokoramus Yuriy",
      "photoUrl": "https://lh3.googleusercontent.com/a/default-user=s64",
      "userId": "11194351396661567910"
     },
     "user_tz": -180
    },
    "id": "hVEs_U4gDhVj"
   },
   "outputs": [],
   "source": [
    "from sklearn.ensemble import RandomForestRegressor"
   ]
  },
  {
   "cell_type": "code",
   "execution_count": 17,
   "metadata": {
    "executionInfo": {
     "elapsed": 49,
     "status": "ok",
     "timestamp": 1635092218919,
     "user": {
      "displayName": "Vokoramus Yuriy",
      "photoUrl": "https://lh3.googleusercontent.com/a/default-user=s64",
      "userId": "11194351396661567910"
     },
     "user_tz": -180
    },
    "id": "5ca5b4e-Dtcy"
   },
   "outputs": [],
   "source": [
    "model = RandomForestRegressor(n_estimators=1000, max_depth=12, random_state=42)"
   ]
  },
  {
   "cell_type": "code",
   "execution_count": 18,
   "metadata": {
    "colab": {
     "base_uri": "https://localhost:8080/"
    },
    "executionInfo": {
     "elapsed": 2956,
     "status": "ok",
     "timestamp": 1635092221827,
     "user": {
      "displayName": "Vokoramus Yuriy",
      "photoUrl": "https://lh3.googleusercontent.com/a/default-user=s64",
      "userId": "11194351396661567910"
     },
     "user_tz": -180
    },
    "id": "P3l9oiObFlXU",
    "outputId": "a7481763-8456-4d98-c47b-cf099be01094"
   },
   "outputs": [
    {
     "data": {
      "text/plain": [
       "RandomForestRegressor(max_depth=12, n_estimators=1000, random_state=42)"
      ]
     },
     "execution_count": 18,
     "metadata": {},
     "output_type": "execute_result"
    }
   ],
   "source": [
    "model.fit(X_train, y_train.values[:, 0])"
   ]
  },
  {
   "cell_type": "code",
   "execution_count": 19,
   "metadata": {
    "executionInfo": {
     "elapsed": 281,
     "status": "ok",
     "timestamp": 1635092303162,
     "user": {
      "displayName": "Vokoramus Yuriy",
      "photoUrl": "https://lh3.googleusercontent.com/a/default-user=s64",
      "userId": "11194351396661567910"
     },
     "user_tz": -180
    },
    "id": "luI5NKPQFvda"
   },
   "outputs": [],
   "source": [
    "y_predict_forest = model.predict(X_test)"
   ]
  },
  {
   "cell_type": "code",
   "execution_count": 20,
   "metadata": {
    "colab": {
     "base_uri": "https://localhost:8080/"
    },
    "executionInfo": {
     "elapsed": 19,
     "status": "ok",
     "timestamp": 1635092342950,
     "user": {
      "displayName": "Vokoramus Yuriy",
      "photoUrl": "https://lh3.googleusercontent.com/a/default-user=s64",
      "userId": "11194351396661567910"
     },
     "user_tz": -180
    },
    "id": "HLf5dDKnGIn5",
    "outputId": "7d41bbf8-239b-4116-c4c0-2ba3c9463e7e"
   },
   "outputs": [
    {
     "data": {
      "text/plain": [
       "0.87472606157312"
      ]
     },
     "execution_count": 20,
     "metadata": {},
     "output_type": "execute_result"
    }
   ],
   "source": [
    "r2_forest = r2_score(y_test, y_predict_forest)\n",
    "r2_forest"
   ]
  },
  {
   "cell_type": "code",
   "execution_count": 21,
   "metadata": {
    "colab": {
     "base_uri": "https://localhost:8080/"
    },
    "executionInfo": {
     "elapsed": 269,
     "status": "ok",
     "timestamp": 1635092521991,
     "user": {
      "displayName": "Vokoramus Yuriy",
      "photoUrl": "https://lh3.googleusercontent.com/a/default-user=s64",
      "userId": "11194351396661567910"
     },
     "user_tz": -180
    },
    "id": "G7qtsmyyGSV7",
    "outputId": "5a5f3ea7-e2ab-466c-dd07-53a79532631b"
   },
   "outputs": [
    {
     "name": "stdout",
     "output_type": "stream",
     "text": [
      "r2_lr ( 0.7112260057484945 ) < r2_forest ( 0.87472606157312 )\n"
     ]
    }
   ],
   "source": [
    "comp = '>' if r2 > r2_forest else '<'\n",
    "print('r2_lr (', r2 , ')', comp, 'r2_forest (', r2_forest, ')')"
   ]
  },
  {
   "cell_type": "code",
   "execution_count": 22,
   "metadata": {
    "id": "NuQW5KmwHNuW"
   },
   "outputs": [],
   "source": [
    "# если сравнивать модели только на представленных данных и только в рамках выбранной метрики (r2), \n",
    "# то лучше работает (точнее предсказывает значение целевой переменной) модель RandomForestRegressor, т.к. имеет бОльшее значение метрики r2.\n",
    "# Однако нельзя исключать вероятность переобученности модели RandomForestRegressor на представленных данных.\n",
    "# Для более объективного сравнения двух моделей необходимо оценить также вероятность переобученности каждой из них."
   ]
  },
  {
   "cell_type": "markdown",
   "metadata": {
    "id": "yLEWZXxFPnMx"
   },
   "source": [
    "*Задание 3\n",
    "Вызовите документацию для класса RandomForestRegressor,\n",
    "найдите информацию об атрибуте feature_importances_.\n",
    "С помощью этого атрибута найдите сумму всех показателей важности,\n",
    "установите, какие два признака показывают наибольшую важность."
   ]
  },
  {
   "cell_type": "code",
   "execution_count": 23,
   "metadata": {
    "executionInfo": {
     "elapsed": 316,
     "status": "ok",
     "timestamp": 1635095585905,
     "user": {
      "displayName": "Vokoramus Yuriy",
      "photoUrl": "https://lh3.googleusercontent.com/a/default-user=s64",
      "userId": "11194351396661567910"
     },
     "user_tz": -180
    },
    "id": "t9G9BHNTL18I"
   },
   "outputs": [],
   "source": [
    "# ?RandomForestRegressor.feature_importances_"
   ]
  },
  {
   "cell_type": "code",
   "execution_count": 24,
   "metadata": {
    "colab": {
     "base_uri": "https://localhost:8080/"
    },
    "executionInfo": {
     "elapsed": 412,
     "status": "ok",
     "timestamp": 1635095676625,
     "user": {
      "displayName": "Vokoramus Yuriy",
      "photoUrl": "https://lh3.googleusercontent.com/a/default-user=s64",
      "userId": "11194351396661567910"
     },
     "user_tz": -180
    },
    "id": "uleBkw9SS6cB",
    "outputId": "beec054c-1544-4e95-f48f-5373d0a88e51"
   },
   "outputs": [
    {
     "data": {
      "text/plain": [
       "array([0.03167574, 0.00154252, 0.00713813, 0.00123624, 0.01426897,\n",
       "       0.40268179, 0.01429864, 0.06397257, 0.00528122, 0.01152493,\n",
       "       0.01808108, 0.01245085, 0.41584732])"
      ]
     },
     "execution_count": 24,
     "metadata": {},
     "output_type": "execute_result"
    }
   ],
   "source": [
    "model.feature_importances_"
   ]
  },
  {
   "cell_type": "code",
   "execution_count": 25,
   "metadata": {
    "colab": {
     "base_uri": "https://localhost:8080/"
    },
    "executionInfo": {
     "elapsed": 292,
     "status": "ok",
     "timestamp": 1635095895853,
     "user": {
      "displayName": "Vokoramus Yuriy",
      "photoUrl": "https://lh3.googleusercontent.com/a/default-user=s64",
      "userId": "11194351396661567910"
     },
     "user_tz": -180
    },
    "id": "0p58yQgBTAMH",
    "outputId": "435d0387-105b-4573-89a3-30f5c29ef5df"
   },
   "outputs": [
    {
     "data": {
      "text/plain": [
       "1.0"
      ]
     },
     "execution_count": 25,
     "metadata": {},
     "output_type": "execute_result"
    }
   ],
   "source": [
    "np.sum(model.feature_importances_)"
   ]
  },
  {
   "cell_type": "code",
   "execution_count": 26,
   "metadata": {
    "colab": {
     "base_uri": "https://localhost:8080/"
    },
    "executionInfo": {
     "elapsed": 297,
     "status": "ok",
     "timestamp": 1635096035425,
     "user": {
      "displayName": "Vokoramus Yuriy",
      "photoUrl": "https://lh3.googleusercontent.com/a/default-user=s64",
      "userId": "11194351396661567910"
     },
     "user_tz": -180
    },
    "id": "nyy3TV0rTe9L",
    "outputId": "14c8ecb6-db0d-49e1-9f30-beeab8a8343b"
   },
   "outputs": [
    {
     "data": {
      "text/plain": [
       "array(['CRIM', 'ZN', 'INDUS', 'CHAS', 'NOX', 'RM', 'AGE', 'DIS', 'RAD',\n",
       "       'TAX', 'PTRATIO', 'B', 'LSTAT'], dtype='<U7')"
      ]
     },
     "execution_count": 26,
     "metadata": {},
     "output_type": "execute_result"
    }
   ],
   "source": [
    "ds.feature_names"
   ]
  },
  {
   "cell_type": "code",
   "execution_count": 27,
   "metadata": {
    "colab": {
     "base_uri": "https://localhost:8080/",
     "height": 111
    },
    "executionInfo": {
     "elapsed": 287,
     "status": "ok",
     "timestamp": 1635096625462,
     "user": {
      "displayName": "Vokoramus Yuriy",
      "photoUrl": "https://lh3.googleusercontent.com/a/default-user=s64",
      "userId": "11194351396661567910"
     },
     "user_tz": -180
    },
    "id": "2yovXo1aTn3q",
    "outputId": "dbcb4748-6301-48f2-c548-bd483a8fc8df"
   },
   "outputs": [
    {
     "data": {
      "text/html": [
       "<div>\n",
       "<style scoped>\n",
       "    .dataframe tbody tr th:only-of-type {\n",
       "        vertical-align: middle;\n",
       "    }\n",
       "\n",
       "    .dataframe tbody tr th {\n",
       "        vertical-align: top;\n",
       "    }\n",
       "\n",
       "    .dataframe thead th {\n",
       "        text-align: right;\n",
       "    }\n",
       "</style>\n",
       "<table border=\"1\" class=\"dataframe\">\n",
       "  <thead>\n",
       "    <tr style=\"text-align: right;\">\n",
       "      <th></th>\n",
       "      <th>f_names</th>\n",
       "      <th>f_imp</th>\n",
       "    </tr>\n",
       "  </thead>\n",
       "  <tbody>\n",
       "    <tr>\n",
       "      <th>12</th>\n",
       "      <td>LSTAT</td>\n",
       "      <td>0.415847</td>\n",
       "    </tr>\n",
       "    <tr>\n",
       "      <th>5</th>\n",
       "      <td>RM</td>\n",
       "      <td>0.402682</td>\n",
       "    </tr>\n",
       "  </tbody>\n",
       "</table>\n",
       "</div>"
      ],
      "text/plain": [
       "   f_names     f_imp\n",
       "12   LSTAT  0.415847\n",
       "5       RM  0.402682"
      ]
     },
     "execution_count": 27,
     "metadata": {},
     "output_type": "execute_result"
    }
   ],
   "source": [
    "f_names = pd.Series(ds.feature_names)\n",
    "f_imp = pd.Series(model.feature_importances_)\n",
    "\n",
    "df = pd.DataFrame(f_names, columns=['f_names'])\n",
    "df['f_imp'] = f_imp\n",
    "df.nlargest(2, 'f_imp')"
   ]
  }
 ],
 "metadata": {
  "colab": {
   "authorship_tag": "ABX9TyPdgkjZXqUI7z3RRTOmIkep",
   "collapsed_sections": [],
   "name": "hw_6.ipynb",
   "provenance": []
  },
  "kernelspec": {
   "display_name": "Python 3",
   "language": "python",
   "name": "python3"
  },
  "language_info": {
   "codemirror_mode": {
    "name": "ipython",
    "version": 3
   },
   "file_extension": ".py",
   "mimetype": "text/x-python",
   "name": "python",
   "nbconvert_exporter": "python",
   "pygments_lexer": "ipython3",
   "version": "3.8.8"
  }
 },
 "nbformat": 4,
 "nbformat_minor": 1
}
