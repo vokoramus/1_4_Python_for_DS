{
 "cells": [
  {
   "cell_type": "markdown",
   "id": "ee398f68",
   "metadata": {},
   "source": [
    "# Урок 2"
   ]
  },
  {
   "cell_type": "markdown",
   "id": "90d9d0fa",
   "metadata": {},
   "source": [
    "##  Тема: Работа с данными в Pandas"
   ]
  },
  {
   "cell_type": "markdown",
   "id": "f1433496",
   "metadata": {},
   "source": [
    "##### Задание 4\n",
    "\n",
    "Создайте датафрейм authors_stat на основе информации из authors_price. \n",
    "В датафрейме authors_stat должны быть четыре столбца:\n",
    "\n",
    "author_name, min_price, max_price и mean_price,\n",
    "\n",
    "в которых должны содержаться соответственно имя автора, минимальная, максимальная и средняя цена на книги этого автора.\n"
   ]
  },
  {
   "cell_type": "code",
   "execution_count": 1,
   "id": "f019c02c",
   "metadata": {},
   "outputs": [],
   "source": [
    "%run hw_2_theme_2_Pandas_task_3.ipynb"
   ]
  },
  {
   "cell_type": "code",
   "execution_count": 2,
   "id": "02acab6b",
   "metadata": {},
   "outputs": [
    {
     "data": {
      "text/html": [
       "<div>\n",
       "<style scoped>\n",
       "    .dataframe tbody tr th:only-of-type {\n",
       "        vertical-align: middle;\n",
       "    }\n",
       "\n",
       "    .dataframe tbody tr th {\n",
       "        vertical-align: top;\n",
       "    }\n",
       "\n",
       "    .dataframe thead th {\n",
       "        text-align: right;\n",
       "    }\n",
       "</style>\n",
       "<table border=\"1\" class=\"dataframe\">\n",
       "  <thead>\n",
       "    <tr style=\"text-align: right;\">\n",
       "      <th></th>\n",
       "      <th>author</th>\n",
       "      <th>book_title</th>\n",
       "      <th>price</th>\n",
       "    </tr>\n",
       "    <tr>\n",
       "      <th>author_id</th>\n",
       "      <th></th>\n",
       "      <th></th>\n",
       "      <th></th>\n",
       "    </tr>\n",
       "  </thead>\n",
       "  <tbody>\n",
       "    <tr>\n",
       "      <th>1</th>\n",
       "      <td>Тургенев</td>\n",
       "      <td>Отцы и дети</td>\n",
       "      <td>450</td>\n",
       "    </tr>\n",
       "    <tr>\n",
       "      <th>1</th>\n",
       "      <td>Тургенев</td>\n",
       "      <td>Рудин</td>\n",
       "      <td>300</td>\n",
       "    </tr>\n",
       "    <tr>\n",
       "      <th>1</th>\n",
       "      <td>Тургенев</td>\n",
       "      <td>Дворянское гнездо</td>\n",
       "      <td>350</td>\n",
       "    </tr>\n",
       "    <tr>\n",
       "      <th>2</th>\n",
       "      <td>Чехов</td>\n",
       "      <td>Толстый и тонкий</td>\n",
       "      <td>500</td>\n",
       "    </tr>\n",
       "    <tr>\n",
       "      <th>2</th>\n",
       "      <td>Чехов</td>\n",
       "      <td>Дама с собачкой</td>\n",
       "      <td>450</td>\n",
       "    </tr>\n",
       "    <tr>\n",
       "      <th>3</th>\n",
       "      <td>Островский</td>\n",
       "      <td>Гроза</td>\n",
       "      <td>370</td>\n",
       "    </tr>\n",
       "    <tr>\n",
       "      <th>3</th>\n",
       "      <td>Островский</td>\n",
       "      <td>Таланты и поклонники</td>\n",
       "      <td>290</td>\n",
       "    </tr>\n",
       "  </tbody>\n",
       "</table>\n",
       "</div>"
      ],
      "text/plain": [
       "               author            book_title  price\n",
       "author_id                                         \n",
       "1            Тургенев           Отцы и дети    450\n",
       "1            Тургенев                 Рудин    300\n",
       "1            Тургенев     Дворянское гнездо    350\n",
       "2               Чехов      Толстый и тонкий    500\n",
       "2               Чехов       Дама с собачкой    450\n",
       "3          Островский                 Гроза    370\n",
       "3          Островский  Таланты и поклонники    290"
      ]
     },
     "execution_count": 2,
     "metadata": {},
     "output_type": "execute_result"
    }
   ],
   "source": [
    "authors_price"
   ]
  },
  {
   "cell_type": "code",
   "execution_count": 3,
   "id": "50abe2e5",
   "metadata": {},
   "outputs": [
    {
     "data": {
      "text/html": [
       "<div>\n",
       "<style scoped>\n",
       "    .dataframe tbody tr th:only-of-type {\n",
       "        vertical-align: middle;\n",
       "    }\n",
       "\n",
       "    .dataframe tbody tr th {\n",
       "        vertical-align: top;\n",
       "    }\n",
       "\n",
       "    .dataframe thead th {\n",
       "        text-align: right;\n",
       "    }\n",
       "</style>\n",
       "<table border=\"1\" class=\"dataframe\">\n",
       "  <thead>\n",
       "    <tr style=\"text-align: right;\">\n",
       "      <th></th>\n",
       "      <th>author_name</th>\n",
       "      <th>min_price</th>\n",
       "      <th>max_price</th>\n",
       "      <th>mean_price</th>\n",
       "    </tr>\n",
       "  </thead>\n",
       "  <tbody>\n",
       "    <tr>\n",
       "      <th>0</th>\n",
       "      <td>Тургенев</td>\n",
       "      <td>300</td>\n",
       "      <td>450</td>\n",
       "      <td>366.666667</td>\n",
       "    </tr>\n",
       "    <tr>\n",
       "      <th>1</th>\n",
       "      <td>Чехов</td>\n",
       "      <td>450</td>\n",
       "      <td>500</td>\n",
       "      <td>475.000000</td>\n",
       "    </tr>\n",
       "    <tr>\n",
       "      <th>2</th>\n",
       "      <td>Островский</td>\n",
       "      <td>290</td>\n",
       "      <td>370</td>\n",
       "      <td>330.000000</td>\n",
       "    </tr>\n",
       "  </tbody>\n",
       "</table>\n",
       "</div>"
      ],
      "text/plain": [
       "  author_name  min_price  max_price  mean_price\n",
       "0    Тургенев        300        450  366.666667\n",
       "1       Чехов        450        500  475.000000\n",
       "2  Островский        290        370  330.000000"
      ]
     },
     "execution_count": 3,
     "metadata": {},
     "output_type": "execute_result"
    }
   ],
   "source": [
    "authors_stat = pd.DataFrame({})\n",
    "# min_price, max_price и mean_price\n",
    "authors_stat['author_name'] = authors_price['author'].unique()\n",
    "\n",
    "min_price_df = authors_price.groupby('author')['price'].min()  # type: pandas.core.series.Series\n",
    "# print(min_price_df)\n",
    "authors_stat = pd.merge(authors_stat, min_price_df, left_on='author_name', right_on='author', how='inner')\n",
    "authors_stat.rename(columns={'price': 'min_price'}, inplace=True)\n",
    "\n",
    "max_price_df = authors_price.groupby('author')['price'].max()  # type: pandas.core.series.Series\n",
    "# print(max_price_df)\n",
    "authors_stat = pd.merge(authors_stat, max_price_df, left_on='author_name', right_on='author', how='inner')\n",
    "authors_stat.rename(columns={'price': 'max_price'}, inplace=True)\n",
    "\n",
    "mean_price_df = authors_price.groupby('author')['price'].mean()  # type: pandas.core.series.Series\n",
    "# print(mean_price_df)\n",
    "authors_stat = pd.merge(authors_stat, mean_price_df, left_on='author_name', right_on='author', how='inner')\n",
    "authors_stat.rename(columns={'price': 'mean_price'}, inplace=True)\n",
    "\n",
    "authors_stat"
   ]
  }
 ],
 "metadata": {
  "kernelspec": {
   "display_name": "Python 3",
   "language": "python",
   "name": "python3"
  },
  "language_info": {
   "codemirror_mode": {
    "name": "ipython",
    "version": 3
   },
   "file_extension": ".py",
   "mimetype": "text/x-python",
   "name": "python",
   "nbconvert_exporter": "python",
   "pygments_lexer": "ipython3",
   "version": "3.8.8"
  }
 },
 "nbformat": 4,
 "nbformat_minor": 5
}
